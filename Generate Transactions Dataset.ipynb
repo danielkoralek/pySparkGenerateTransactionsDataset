{
  "cells": [
    {
      "cell_type": "markdown",
      "source": [
        "# PySpark code to Generate a denormalized dataset with transaction operations.abs\r\n",
        "\r\n",
        "Uses simple solution to randomly create fake data, in the absence of the `fake` module."
      ],
      "metadata": {
        "nteract": {
          "transient": {
            "deleting": false
          }
        }
      }
    },
    {
      "cell_type": "code",
      "source": [
        "%%pyspark\r\n",
        "\r\n",
        "## Set the seeds\r\n",
        "\r\n",
        "import random\r\n",
        "import uuid\r\n",
        "import time\r\n",
        "from datetime import datetime\r\n",
        "from decimal import Decimal\r\n",
        "import pandas as pd \r\n",
        "\r\n",
        "firstName   = ['Mary','Joe','Billy','Joseph','Klara','Anderson','Henry','Ana','Leyla','Laura','Denny']\r\n",
        "lastName    = ['Johnson','Spectoulos','Olsen','Virgo','Irden','Daniels','Halen','Souza','Petersen','Maley']\r\n",
        "junctName   = ['','de',\"O'\",'Saint','of']\r\n",
        "operation   = ['purchase','sell','lock']\r\n",
        "wallet      = ['A','B','C','D','E','F']\r\n",
        "\r\n",
        "initialDateTime = \"2021-01-01 11:34:00\"\r\n",
        "finalDateTime   = \"2023-05-26 21:44:00\"\r\n",
        "\r\n"
      ],
      "outputs": [
        {
          "output_type": "display_data",
          "data": {
            "application/vnd.livy.statement-meta+json": {
              "spark_pool": "lab00spark",
              "session_id": "0",
              "statement_id": 235,
              "state": "finished",
              "livy_statement_state": "available",
              "queued_time": "2023-05-27T00:59:10.6275408Z",
              "session_start_time": null,
              "execution_start_time": "2023-05-27T00:59:10.7788313Z",
              "execution_finish_time": "2023-05-27T00:59:10.964752Z",
              "spark_jobs": null,
              "parent_msg_id": "3b3e2642-d3b9-4181-b3e8-9e75727da82a"
            },
            "text/plain": "StatementMeta(lab00spark, 0, 235, Finished, Available)"
          },
          "metadata": {}
        }
      ],
      "execution_count": 84,
      "metadata": {
        "microsoft": {
          "language": "python"
        }
      }
    },
    {
      "cell_type": "code",
      "source": [
        "%%pyspark\r\n",
        "\r\n",
        "def timeMachineProp(start, end, time_format, prop):\r\n",
        "    stime = time.mktime(time.strptime(start, time_format))\r\n",
        "    etime = time.mktime(time.strptime(end, time_format))\r\n",
        "    ptime = stime + prop * (etime - stime)\r\n",
        "    return time.strftime(time_format, time.localtime(ptime))\r\n",
        "\r\n",
        "def random_date(start, end, prop):\r\n",
        "    return timeMachineProp(start, end, '%Y-%m-%d %H:%M:%S', prop)"
      ],
      "outputs": [
        {
          "output_type": "display_data",
          "data": {
            "application/vnd.livy.statement-meta+json": {
              "spark_pool": "lab00spark",
              "session_id": "0",
              "statement_id": 236,
              "state": "finished",
              "livy_statement_state": "available",
              "queued_time": "2023-05-27T00:59:10.6810055Z",
              "session_start_time": null,
              "execution_start_time": "2023-05-27T00:59:11.1169274Z",
              "execution_finish_time": "2023-05-27T00:59:11.2944625Z",
              "spark_jobs": null,
              "parent_msg_id": "e624557b-ae67-4201-b02d-08f6171a4586"
            },
            "text/plain": "StatementMeta(lab00spark, 0, 236, Finished, Available)"
          },
          "metadata": {}
        }
      ],
      "execution_count": 85,
      "metadata": {
        "jupyter": {
          "source_hidden": false,
          "outputs_hidden": false
        },
        "nteract": {
          "transient": {
            "deleting": false
          }
        },
        "microsoft": {
          "language": "python"
        }
      }
    },
    {
      "cell_type": "code",
      "source": [
        "%%pyspark\r\n",
        "\r\n",
        "## BUILD the data\r\n",
        "\r\n",
        "strHeader = [\r\n",
        "    'transaction_id',\r\n",
        "    'transaction_dt',\r\n",
        "    'name',\r\n",
        "    'statement',\r\n",
        "    'operation',\r\n",
        "    'wallet',\r\n",
        "    'value'\r\n",
        "]\r\n",
        "\r\n",
        "records = [strHeader]\r\n",
        "\r\n",
        "for i in range(10000000):\r\n",
        "    transactionId = uuid.uuid4()\r\n",
        "    transactionDt = random_date(initialDateTime, finalDateTime, random.random())\r\n",
        "    personName = \" \".join([\r\n",
        "        random.choice(firstName), \r\n",
        "        random.choice(junctName), \r\n",
        "        random.choice(lastName)\r\n",
        "    ])\r\n",
        "    transactionWallet = random.choice(wallet)\r\n",
        "    transactionOperation = random.choice(operation)\r\n",
        "    transactionValue = Decimal(random.randrange(10000))/100\r\n",
        "    #\r\n",
        "    # the sentence\r\n",
        "    sentence = \"On %s, %s performed a %s of value USD %s on wallet %s.\" % (transactionDt, personName, transactionOperation.upper(), transactionValue, transactionWallet)\r\n",
        "    \r\n",
        "    records.append(\r\n",
        "        [transactionId, transactionDt, personName, sentence, transactionOperation.upper(), transactionWallet, transactionValue]\r\n",
        "    )\r\n"
      ],
      "outputs": [
        {
          "output_type": "display_data",
          "data": {
            "application/vnd.livy.statement-meta+json": {
              "spark_pool": "lab00spark",
              "session_id": "0",
              "statement_id": 237,
              "state": "finished",
              "livy_statement_state": "available",
              "queued_time": "2023-05-27T00:59:10.7329657Z",
              "session_start_time": null,
              "execution_start_time": "2023-05-27T00:59:11.4357707Z",
              "execution_finish_time": "2023-05-27T01:06:38.2521252Z",
              "spark_jobs": null,
              "parent_msg_id": "1a65c87b-fce3-4f1d-8a9f-4e78452cff80"
            },
            "text/plain": "StatementMeta(lab00spark, 0, 237, Finished, Available)"
          },
          "metadata": {}
        }
      ],
      "execution_count": 86,
      "metadata": {
        "jupyter": {
          "source_hidden": false,
          "outputs_hidden": false
        },
        "nteract": {
          "transient": {
            "deleting": false
          }
        },
        "microsoft": {
          "language": "python"
        }
      }
    },
    {
      "cell_type": "code",
      "source": [
        "dfData = pd.DataFrame(records)\r\n",
        "print(dfData.head(10))"
      ],
      "outputs": [
        {
          "output_type": "display_data",
          "data": {
            "application/vnd.livy.statement-meta+json": {
              "spark_pool": "lab00spark",
              "session_id": "0",
              "statement_id": 238,
              "state": "finished",
              "livy_statement_state": "available",
              "queued_time": "2023-05-27T00:59:10.7859937Z",
              "session_start_time": null,
              "execution_start_time": "2023-05-27T01:06:38.4369628Z",
              "execution_finish_time": "2023-05-27T01:06:42.4772217Z",
              "spark_jobs": null,
              "parent_msg_id": "e72345cb-c673-4f9e-8702-dc6d17de4162"
            },
            "text/plain": "StatementMeta(lab00spark, 0, 238, Finished, Available)"
          },
          "metadata": {}
        },
        {
          "output_type": "stream",
          "name": "stdout",
          "text": [
            "                                      0                    1  \\\n0                        transaction_id       transaction_dt   \n1  71e83c9e-9b9c-4c01-afea-cdd733d616ab  2023-05-22 04:37:18   \n2  ecbb21da-f8a2-4be2-9b1c-096e228eeef8  2022-07-23 05:09:34   \n3  8a772593-384c-4a1d-a6c6-d5a8d9d0330d  2021-11-13 10:43:16   \n4  22b12f72-0ac5-4fcc-835b-15361141c6e9  2022-07-06 18:00:43   \n5  09d5f12a-a3fd-4ab7-b21f-633a74056866  2021-04-14 11:32:55   \n6  3683451a-e6bd-4c2b-953f-a64b2bd14035  2021-02-16 16:48:18   \n7  94f74ac2-0197-4fb1-abd4-93c0eff70618  2023-02-06 03:52:55   \n8  68eeb01f-e8db-477a-baea-2873773ff53d  2021-02-01 20:52:08   \n9  77ce0ec2-115e-4cfd-914a-8dce8ac54ed9  2022-08-05 09:55:38   \n\n                     2                                                  3  \\\n0                 name                                          statement   \n1       Leyla O' Irden  On 2023-05-22 04:37:18, Leyla O' Irden perform...   \n2         Joe O' Halen  On 2022-07-23 05:09:34, Joe O' Halen performed...   \n3    Joseph O' Daniels  On 2021-11-13 10:43:16, Joseph O' Daniels perf...   \n4    Joe Saint Daniels  On 2022-07-06 18:00:43, Joe Saint Daniels perf...   \n5  Leyla O' Spectoulos  On 2021-04-14 11:32:55, Leyla O' Spectoulos pe...   \n6       Laura of Souza  On 2021-02-16 16:48:18, Laura of Souza perform...   \n7         Joe of Olsen  On 2023-02-06 03:52:55, Joe of Olsen performed...   \n8       Ana of Johnson  On 2021-02-01 20:52:08, Ana of Johnson perform...   \n9      Ana O' Petersen  On 2022-08-05 09:55:38, Ana O' Petersen perfor...   \n\n           4       5      6  \n0  operation  wallet  value  \n1   PURCHASE       B  25.82  \n2       SELL       A  42.99  \n3   PURCHASE       A  90.58  \n4       SELL       F  72.57  \n5       LOCK       B  20.17  \n6   PURCHASE       A  20.36  \n7   PURCHASE       A  13.87  \n8       LOCK       D  33.26  \n9       SELL       D  70.57  \n"
          ]
        }
      ],
      "execution_count": 87,
      "metadata": {
        "jupyter": {
          "source_hidden": false,
          "outputs_hidden": false
        },
        "nteract": {
          "transient": {
            "deleting": false
          }
        }
      }
    },
    {
      "cell_type": "code",
      "source": [
        "dfData.to_csv('abfs://xxx@xxxxxxx.dfs.core.windows.net/generatedData/transactions/transactions.csv')\r\n"
      ],
      "outputs": [
        {
          "output_type": "display_data",
          "data": {
            "application/vnd.livy.statement-meta+json": {
              "spark_pool": "lab00spark",
              "session_id": "0",
              "statement_id": 239,
              "state": "finished",
              "livy_statement_state": "available",
              "queued_time": "2023-05-27T00:59:10.8851873Z",
              "session_start_time": null,
              "execution_start_time": "2023-05-27T01:06:42.6029978Z",
              "execution_finish_time": "2023-05-27T01:09:59.5218423Z",
              "spark_jobs": null,
              "parent_msg_id": "2cfef688-8dc8-4fa9-a2f6-fc7cff0c3aa0"
            },
            "text/plain": "StatementMeta(lab00spark, 0, 239, Finished, Available)"
          },
          "metadata": {}
        }
      ],
      "execution_count": 88,
      "metadata": {
        "jupyter": {
          "source_hidden": false,
          "outputs_hidden": false
        },
        "nteract": {
          "transient": {
            "deleting": false
          }
        }
      }
    }
  ],
  "metadata": {
    "kernelspec": {
      "name": "synapse_spark",
      "language": "Scala",
      "display_name": "Synapse Spark"
    },
    "language_info": {
      "name": "python"
    },
    "kernel_info": {
      "name": "synapse_spark"
    },
    "description": null,
    "save_output": true,
    "synapse_widget": {
      "version": "0.1",
      "state": {}
    }
  },
  "nbformat": 4,
  "nbformat_minor": 2
}
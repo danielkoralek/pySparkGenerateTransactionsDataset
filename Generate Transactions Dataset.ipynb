{
  "cells": [
    {
      "cell_type": "markdown",
      "source": [
        "# PySpark code to Generate a denormalized dataset with transaction operations.abs\r\n",
        "\r\n",
        "Uses simple solution to randomly create fake data, in the absence of the `fake` module."
      ],
      "metadata": {
        "nteract": {
          "transient": {
            "deleting": false
          }
        }
      }
    },
    {
      "cell_type": "code",
      "source": [
        "%%pyspark\r\n",
        "\r\n",
        "## Set the seeds\r\n",
        "\r\n",
        "import random\r\n",
        "import uuid\r\n",
        "import time\r\n",
        "from datetime import datetime\r\n",
        "from decimal import Decimal\r\n",
        "import pandas as pd \r\n",
        "\r\n",
        "firstName   = ['Mary','Joe','Billy','Joseph','Klara','Anderson','Henry','Ana','Leyla','Laura','Denny']\r\n",
        "lastName    = ['Johnson','Spectoulos','Olsen','Virgo','Irden','Daniels','Halen','Souza','Petersen','Maley']\r\n",
        "junctName   = ['','de',\"O'\",'Saint','of']\r\n",
        "operation   = ['purchase','sell','lock']\r\n",
        "wallet      = ['A','B','C','D','E','F']\r\n",
        "\r\n",
        "initialDateTime = \"2021-01-01 11:34:00\"\r\n",
        "finalDateTime   = \"2023-05-26 21:44:00\"\r\n",
        "\r\n"
      ],
      "outputs": [
        {
          "output_type": "display_data",
          "data": {
            "application/vnd.livy.statement-meta+json": {
              "spark_pool": "lab00spark",
              "session_id": "3",
              "statement_id": 2,
              "state": "finished",
              "livy_statement_state": "available",
              "queued_time": "2023-05-27T02:04:28.5407411Z",
              "session_start_time": "2023-05-27T02:04:28.5992101Z",
              "execution_start_time": "2023-05-27T02:05:27.6649326Z",
              "execution_finish_time": "2023-05-27T02:05:31.6516923Z",
              "spark_jobs": null,
              "parent_msg_id": "38685261-1e87-43ba-af56-fea5c77d7ed9"
            },
            "text/plain": "StatementMeta(lab00spark, 3, 2, Finished, Available)"
          },
          "metadata": {}
        }
      ],
      "execution_count": 1,
      "metadata": {
        "microsoft": {
          "language": "python"
        }
      }
    },
    {
      "cell_type": "code",
      "source": [
        "%%pyspark\r\n",
        "\r\n",
        "def timeMachineProp(start, end, time_format, prop):\r\n",
        "    stime = time.mktime(time.strptime(start, time_format))\r\n",
        "    etime = time.mktime(time.strptime(end, time_format))\r\n",
        "    ptime = stime + prop * (etime - stime)\r\n",
        "    return time.strftime(time_format, time.localtime(ptime))\r\n",
        "\r\n",
        "def random_date(start, end, prop):\r\n",
        "    return timeMachineProp(start, end, '%Y-%m-%d %H:%M:%S', prop)"
      ],
      "outputs": [
        {
          "output_type": "display_data",
          "data": {
            "application/vnd.livy.statement-meta+json": {
              "spark_pool": "lab00spark",
              "session_id": "3",
              "statement_id": 3,
              "state": "finished",
              "livy_statement_state": "available",
              "queued_time": "2023-05-27T02:04:28.5416364Z",
              "session_start_time": null,
              "execution_start_time": "2023-05-27T02:05:31.8012427Z",
              "execution_finish_time": "2023-05-27T02:05:31.9980218Z",
              "spark_jobs": null,
              "parent_msg_id": "fc670b22-eb89-4a09-8091-d9855623d202"
            },
            "text/plain": "StatementMeta(lab00spark, 3, 3, Finished, Available)"
          },
          "metadata": {}
        }
      ],
      "execution_count": 2,
      "metadata": {
        "jupyter": {
          "source_hidden": false,
          "outputs_hidden": false
        },
        "nteract": {
          "transient": {
            "deleting": false
          }
        },
        "microsoft": {
          "language": "python"
        }
      }
    },
    {
      "cell_type": "code",
      "source": [
        "%%pyspark\r\n",
        "\r\n",
        "## BUILD the data\r\n",
        "\r\n",
        "strHeader = [\r\n",
        "    'transaction_id',\r\n",
        "    'transaction_dt',\r\n",
        "    'name',\r\n",
        "    'statement',\r\n",
        "    'operation',\r\n",
        "    'wallet',\r\n",
        "    'value'\r\n",
        "]\r\n",
        "\r\n",
        "records = [strHeader]\r\n",
        "\r\n",
        "for i in range(2000000):\r\n",
        "    transactionId = uuid.uuid4()\r\n",
        "    transactionDt = random_date(initialDateTime, finalDateTime, random.random())\r\n",
        "    personName = \" \".join([\r\n",
        "        random.choice(firstName), \r\n",
        "        random.choice(junctName), \r\n",
        "        random.choice(lastName)\r\n",
        "    ])\r\n",
        "    transactionWallet = random.choice(wallet)\r\n",
        "    transactionOperation = random.choice(operation)\r\n",
        "    transactionValue = Decimal(random.randrange(10000))/100\r\n",
        "    #\r\n",
        "    # the sentence\r\n",
        "    sentence = \"On %s, %s performed a %s of value USD %s on wallet %s.\" % (transactionDt, personName, transactionOperation.upper(), transactionValue, transactionWallet)\r\n",
        "    \r\n",
        "    records.append(\r\n",
        "        [transactionId, transactionDt, personName, sentence, transactionOperation.upper(), transactionWallet, transactionValue]\r\n",
        "    )\r\n"
      ],
      "outputs": [
        {
          "output_type": "display_data",
          "data": {
            "application/vnd.livy.statement-meta+json": {
              "spark_pool": "lab00spark",
              "session_id": "3",
              "statement_id": 4,
              "state": "finished",
              "livy_statement_state": "available",
              "queued_time": "2023-05-27T02:04:28.5424414Z",
              "session_start_time": null,
              "execution_start_time": "2023-05-27T02:05:32.1399132Z",
              "execution_finish_time": "2023-05-27T02:07:03.3481843Z",
              "spark_jobs": null,
              "parent_msg_id": "9745e28e-f473-4f9f-89d6-02367f34f11c"
            },
            "text/plain": "StatementMeta(lab00spark, 3, 4, Finished, Available)"
          },
          "metadata": {}
        }
      ],
      "execution_count": 3,
      "metadata": {
        "jupyter": {
          "source_hidden": false,
          "outputs_hidden": false
        },
        "nteract": {
          "transient": {
            "deleting": false
          }
        },
        "microsoft": {
          "language": "python"
        }
      }
    },
    {
      "cell_type": "markdown",
      "source": [
        "### Create DataFrame with mock data"
      ],
      "metadata": {
        "nteract": {
          "transient": {
            "deleting": false
          }
        }
      }
    },
    {
      "cell_type": "code",
      "source": [
        "dfData = pd.DataFrame(records)"
      ],
      "outputs": [
        {
          "output_type": "display_data",
          "data": {
            "application/vnd.livy.statement-meta+json": {
              "spark_pool": "lab00spark",
              "session_id": "3",
              "statement_id": 5,
              "state": "finished",
              "livy_statement_state": "available",
              "queued_time": "2023-05-27T02:04:28.5432104Z",
              "session_start_time": null,
              "execution_start_time": "2023-05-27T02:07:03.4986909Z",
              "execution_finish_time": "2023-05-27T02:07:04.6179847Z",
              "spark_jobs": null,
              "parent_msg_id": "c151c4a3-2962-456a-8481-89f159638def"
            },
            "text/plain": "StatementMeta(lab00spark, 3, 5, Finished, Available)"
          },
          "metadata": {}
        }
      ],
      "execution_count": 4,
      "metadata": {
        "jupyter": {
          "source_hidden": false,
          "outputs_hidden": false
        },
        "nteract": {
          "transient": {
            "deleting": false
          }
        }
      }
    },
    {
      "cell_type": "markdown",
      "source": [
        "### Save DataFrame to CSV (with Header and no Index)"
      ],
      "metadata": {
        "nteract": {
          "transient": {
            "deleting": false
          }
        }
      }
    },
    {
      "cell_type": "code",
      "source": [
        "dfData.to_csv(\r\n",
        "    'abfs://xxx@xxxx.dfs.core.windows.net/generatedData/transactions/transactions.csv',\r\n",
        "    header=True,\r\n",
        "    index=False\r\n",
        ")\r\n"
      ],
      "outputs": [
        {
          "output_type": "display_data",
          "data": {
            "application/vnd.livy.statement-meta+json": {
              "spark_pool": "lab00spark",
              "session_id": "3",
              "statement_id": 6,
              "state": "finished",
              "livy_statement_state": "available",
              "queued_time": "2023-05-27T02:04:28.5441843Z",
              "session_start_time": null,
              "execution_start_time": "2023-05-27T02:07:04.7698007Z",
              "execution_finish_time": "2023-05-27T02:07:40.2148928Z",
              "spark_jobs": null,
              "parent_msg_id": "901668d1-8a92-4cd8-8434-79e2ae24caa6"
            },
            "text/plain": "StatementMeta(lab00spark, 3, 6, Finished, Available)"
          },
          "metadata": {}
        }
      ],
      "execution_count": 5,
      "metadata": {
        "jupyter": {
          "source_hidden": false,
          "outputs_hidden": false
        },
        "nteract": {
          "transient": {
            "deleting": false
          }
        }
      }
    }
  ],
  "metadata": {
    "kernelspec": {
      "name": "synapse_pyspark",
      "language": "Python",
      "display_name": "Synapse PySpark"
    },
    "language_info": {
      "name": "python"
    },
    "kernel_info": {
      "name": "synapse_pyspark"
    },
    "description": null,
    "save_output": true,
    "synapse_widget": {
      "version": "0.1",
      "state": {}
    }
  },
  "nbformat": 4,
  "nbformat_minor": 2
}